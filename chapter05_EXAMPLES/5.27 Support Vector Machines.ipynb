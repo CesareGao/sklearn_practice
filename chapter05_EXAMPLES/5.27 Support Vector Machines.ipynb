{
 "cells": [
  {
   "cell_type": "markdown",
   "metadata": {},
   "source": [
    "## 5.27.11 Plot different SVM classiﬁers in the iris dataset\n",
    "\n",
    "Comparison of different linear SVM classiﬁers on a 2D projection of the iris dataset. We only consider the ﬁrst 2 features of this dataset: \n",
    "- Sepal length \n",
    "- Sepal width\n",
    "\n",
    "This example shows how to plot the decision surface for four SVM classiﬁers with different kernels. \n",
    "\n",
    "The linear models LinearSVC() and SVC(kernel='linear') yield slightly different decision boundaries. This can be a consequence of the following differences:\n",
    "- LinearSVC minimizes the squared hinge loss while SVC minimizes the regular hinge loss.\n",
    "- LinearSVC uses the One-vs-All (also known as One-vs-Rest) multiclass reduction while SVC uses the One-vs-One multiclass reduction. \n",
    "\n",
    "Both linear models have linear decision boundaries (intersecting hyperplanes) while the non-linear kernel models (polynomial or Gaussian RBF) have more ﬂexible non-linear decision boundaries with shapes that depend on the kind of kernel and its parameters.\n"
   ]
  },
  {
   "cell_type": "code",
   "execution_count": 1,
   "metadata": {},
   "outputs": [
    {
     "name": "stderr",
     "output_type": "stream",
     "text": [
      "/home/cesare/anaconda3/lib/python3.7/importlib/_bootstrap.py:219: RuntimeWarning: numpy.ufunc size changed, may indicate binary incompatibility. Expected 192 from C header, got 216 from PyObject\n",
      "  return f(*args, **kwds)\n",
      "/home/cesare/anaconda3/lib/python3.7/importlib/_bootstrap.py:219: RuntimeWarning: numpy.ufunc size changed, may indicate binary incompatibility. Expected 192 from C header, got 216 from PyObject\n",
      "  return f(*args, **kwds)\n",
      "/home/cesare/anaconda3/lib/python3.7/importlib/_bootstrap.py:219: RuntimeWarning: numpy.ufunc size changed, may indicate binary incompatibility. Expected 192 from C header, got 216 from PyObject\n",
      "  return f(*args, **kwds)\n",
      "/home/cesare/anaconda3/lib/python3.7/importlib/_bootstrap.py:219: RuntimeWarning: numpy.ufunc size changed, may indicate binary incompatibility. Expected 192 from C header, got 216 from PyObject\n",
      "  return f(*args, **kwds)\n",
      "/home/cesare/anaconda3/lib/python3.7/importlib/_bootstrap.py:219: RuntimeWarning: numpy.ufunc size changed, may indicate binary incompatibility. Expected 192 from C header, got 216 from PyObject\n",
      "  return f(*args, **kwds)\n",
      "/home/cesare/anaconda3/lib/python3.7/importlib/_bootstrap.py:219: RuntimeWarning: numpy.ufunc size changed, may indicate binary incompatibility. Expected 192 from C header, got 216 from PyObject\n",
      "  return f(*args, **kwds)\n"
     ]
    }
   ],
   "source": [
    "import numpy as np\n",
    "import matplotlib.pyplot as plt \n",
    "from sklearn import svm, datasets\n",
    "def make_meshgrid(x, y, h=.02):\n",
    "    \"\"\"Create a mesh of points to plot in\n",
    "    \n",
    "    Parameters \n",
    "    ---------\n",
    "    x: data to base x-axis meshgrid on \n",
    "    y: data to base y-axis meshgrid on \n",
    "    h: stepsize for meshgrid, optional\n",
    "    Returns \n",
    "    ------\n",
    "    xx, yy : ndarray \n",
    "    \"\"\"\n",
    "    x_min, x_max = x.min() - 1, x.max() + 1\n",
    "    y_min, y_max = y.min() - 1, y.max() + 1 \n",
    "    xx, yy = np.meshgrid(np.arange(x_min, x_max, h),\n",
    "                         np.arange(y_min, y_max, h))\n",
    "    return xx, yy\n",
    "\n",
    "def plot_contours(ax, clf, xx, yy, **params):\n",
    "    \"\"\"Plot the decision boundaries for a classifier.\n",
    "    \n",
    "    Parameters \n",
    "    ---------\n",
    "    ax: matplotlib axes object \n",
    "    clf: a classifier \n",
    "    xx: meshgrid ndarray \n",
    "    yy: meshgrid ndarray \n",
    "    params: dictionary of params to pass to contourf, optional \n",
    "    \"\"\" \n",
    "    Z = clf.predict(np.c_[xx.ravel(), yy.ravel()])\n",
    "    Z = Z.reshape(xx.shape)\n",
    "    return ax.contourf(xx, yy, Z, **params)\n",
    "\n",
    "# import some data to play with \n",
    "iris = datasets.load_iris()\n",
    "# Take the first two features. We could avoid this by using a two-dim dataset \n",
    "X = iris.data[:, :2] \n",
    "y = iris.target\n",
    "# we create an instance of SVM and fit out data. We do not scale our\n",
    "# data since we want to plot the support vectors \n",
    "C = 1.0 # SVM regularization parameter\n",
    "models = (svm.SVC(kernel='linear', C=C), \n",
    "          svm.LinearSVC(C=C, max_iter=10000), \n",
    "          svm.SVC(kernel='rbf', gamma=0.7, C=C), \n",
    "          svm.SVC(kernel='poly', degree=3, gamma='auto', C=C)) \n",
    "models = (clf.fit(X, y) for clf in models)\n",
    "\n",
    "# title for the plots \n",
    "titles = ('SVC with linear kernel', 'LinearSVC (linear kernel)', \n",
    "          'SVC with RBF kernel', 'SVC with polynomial (degree 3) kernel')\n",
    "# Set-up 2x2 grid for plotting. \n",
    "fig, sub = plt.subplots(2, 2) \n",
    "plt.subplots_adjust(wspace=0.4, hspace=0.4)\n",
    "X0, X1 = X[:, 0], X[:, 1]\n",
    "xx, yy = make_meshgrid(X0, X1)\n",
    "for clf, title, ax in zip(models, titles, sub.flatten()): \n",
    "    plot_contours(ax, clf, xx, yy, \n",
    "                  cmap=plt.cm.coolwarm, alpha=0.8)\n",
    "    "
   ]
  }
 ],
 "metadata": {
  "kernelspec": {
   "display_name": "Python 3",
   "language": "python",
   "name": "python3"
  },
  "language_info": {
   "codemirror_mode": {
    "name": "ipython",
    "version": 3
   },
   "file_extension": ".py",
   "mimetype": "text/x-python",
   "name": "python",
   "nbconvert_exporter": "python",
   "pygments_lexer": "ipython3",
   "version": "3.7.3"
  }
 },
 "nbformat": 4,
 "nbformat_minor": 2
}
